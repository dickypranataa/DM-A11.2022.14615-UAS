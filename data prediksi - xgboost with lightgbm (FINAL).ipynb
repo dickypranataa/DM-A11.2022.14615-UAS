{
 "cells": [
  {
   "cell_type": "markdown",
   "id": "25ac0b47-54d9-4149-99e2-b5c4679c0c43",
   "metadata": {},
   "source": [
    "# Prediksi Keterlambatan Pengiriman Produk Menggunakan Model XGBoost dan LightGBM"
   ]
  },
  {
   "cell_type": "code",
   "execution_count": 2,
   "id": "7205904c-86c4-425a-82ce-99e627fae83c",
   "metadata": {},
   "outputs": [],
   "source": [
    "import pandas as pd\n",
    "import numpy as np\n",
    "from sklearn.model_selection import train_test_split, GridSearchCV\n",
    "from sklearn.preprocessing import LabelEncoder, StandardScaler\n",
    "from sklearn.metrics import classification_report, confusion_matrix, accuracy_score, roc_auc_score, precision_recall_curve, auc, roc_curve\n",
    "from imblearn.combine import SMOTEENN\n",
    "import matplotlib.pyplot as plt\n",
    "import seaborn as sns\n",
    "import xgboost as xgb\n",
    "import lightgbm as lgb\n",
    "from sklearn.model_selection import GridSearchCV\n",
    "import lightgbm as lgb\n",
    "import pickle"
   ]
  },
  {
   "cell_type": "markdown",
   "id": "9ee0b127-dd7c-476c-b72a-597d50617172",
   "metadata": {},
   "source": [
    "# 1. Memuat Data"
   ]
  },
  {
   "cell_type": "code",
   "execution_count": 3,
   "id": "c4ed0fbf-864d-4650-9e55-911896f1c4ad",
   "metadata": {},
   "outputs": [],
   "source": [
    "# 1. Memuat Data\n",
    "data = pd.read_csv('dataset/Train.csv')"
   ]
  },
  {
   "cell_type": "markdown",
   "id": "7c8e7f12-a51d-4ded-b367-4f3e62bac0f3",
   "metadata": {},
   "source": [
    "# 2. Eksplorasi Data\n",
    "- Menggunakan fungsi info() untuk mendapatkan informasi tipe data dan jumlah nilai non-null pada setiap kolom.\n",
    "- Fungsi head() digunakan untuk menampilkan 5 baris pertama dari dataset."
   ]
  },
  {
   "cell_type": "code",
   "execution_count": 4,
   "id": "a83b91d9-63f4-473c-8ef6-a1742a85d7ce",
   "metadata": {},
   "outputs": [
    {
     "name": "stdout",
     "output_type": "stream",
     "text": [
      "Informasi Data:\n",
      "<class 'pandas.core.frame.DataFrame'>\n",
      "RangeIndex: 10999 entries, 0 to 10998\n",
      "Data columns (total 12 columns):\n",
      " #   Column               Non-Null Count  Dtype \n",
      "---  ------               --------------  ----- \n",
      " 0   ID                   10999 non-null  int64 \n",
      " 1   Warehouse_block      10999 non-null  object\n",
      " 2   Mode_of_Shipment     10999 non-null  object\n",
      " 3   Customer_care_calls  10999 non-null  int64 \n",
      " 4   Customer_rating      10999 non-null  int64 \n",
      " 5   Cost_of_the_Product  10999 non-null  int64 \n",
      " 6   Prior_purchases      10999 non-null  int64 \n",
      " 7   Product_importance   10999 non-null  object\n",
      " 8   Gender               10999 non-null  object\n",
      " 9   Discount_offered     10999 non-null  int64 \n",
      " 10  Weight_in_gms        10999 non-null  int64 \n",
      " 11  Reached.on.Time_Y.N  10999 non-null  int64 \n",
      "dtypes: int64(8), object(4)\n",
      "memory usage: 1.0+ MB\n",
      "None\n"
     ]
    }
   ],
   "source": [
    "# 2. Eksplorasi Data\n",
    "print(\"Informasi Data:\")\n",
    "print(data.info())"
   ]
  },
  {
   "cell_type": "code",
   "execution_count": 5,
   "id": "2430e951-0946-4a35-a9d1-39e91c02ec69",
   "metadata": {},
   "outputs": [
    {
     "name": "stdout",
     "output_type": "stream",
     "text": [
      "\n",
      "Lima Baris Pertama Data:\n",
      "   ID Warehouse_block Mode_of_Shipment  Customer_care_calls  Customer_rating  \\\n",
      "0   1               D           Flight                    4                2   \n",
      "1   2               F           Flight                    4                5   \n",
      "2   3               A           Flight                    2                2   \n",
      "3   4               B           Flight                    3                3   \n",
      "4   5               C           Flight                    2                2   \n",
      "\n",
      "   Cost_of_the_Product  Prior_purchases Product_importance Gender  \\\n",
      "0                  177                3                low      F   \n",
      "1                  216                2                low      M   \n",
      "2                  183                4                low      M   \n",
      "3                  176                4             medium      M   \n",
      "4                  184                3             medium      F   \n",
      "\n",
      "   Discount_offered  Weight_in_gms  Reached.on.Time_Y.N  \n",
      "0                44           1233                    1  \n",
      "1                59           3088                    1  \n",
      "2                48           3374                    1  \n",
      "3                10           1177                    1  \n",
      "4                46           2484                    1  \n"
     ]
    }
   ],
   "source": [
    "print(\"\\nLima Baris Pertama Data:\")\n",
    "print(data.head())\n"
   ]
  },
  {
   "cell_type": "markdown",
   "id": "95f3493d-0e08-4b5a-9543-bd09f80e71b6",
   "metadata": {},
   "source": [
    "# 3. Memeriksa Distribusi Variabel Target\n",
    "- Menampilkan distribusi dari variabel target Reached.on.Time_Y.N, yaitu apakah produk tiba tepat waktu (1) atau terlambat (0).\n",
    "- normalize=True menampilkan proporsi untuk setiap kategori (0 dan 1)."
   ]
  },
  {
   "cell_type": "code",
   "execution_count": 6,
   "id": "955458be-b35a-42a3-b1b8-04fc745fe417",
   "metadata": {},
   "outputs": [
    {
     "name": "stdout",
     "output_type": "stream",
     "text": [
      "\n",
      "Distribusi Variabel Target:\n",
      "Reached.on.Time_Y.N\n",
      "1    0.596691\n",
      "0    0.403309\n",
      "Name: proportion, dtype: float64\n"
     ]
    }
   ],
   "source": [
    "# Memeriksa distribusi variabel target\n",
    "print(\"\\nDistribusi Variabel Target:\")\n",
    "print(data['Reached.on.Time_Y.N'].value_counts(normalize=True))"
   ]
  },
  {
   "cell_type": "markdown",
   "id": "1eab26a6-dd48-4596-a3bb-747d998529cf",
   "metadata": {},
   "source": [
    "# 4. Preprocessing Data\n",
    "- Menghapus kolom ID yang tidak relevan untuk model.\n",
    "- Menggunakan LabelEncoder untuk mengonversi kolom kategori (seperti Warehouse_block, Mode_of_Shipment, dll.) menjadi angka yang dapat diterima oleh model.\n",
    "- Membuat dua fitur baru, yaitu Cost_per_Weight (biaya per unit berat) dan Discount_Impact (pengaruh diskon terhadap harga produk)."
   ]
  },
  {
   "cell_type": "code",
   "execution_count": 7,
   "id": "f2651135-4595-4607-a98a-33d8c5c9691a",
   "metadata": {},
   "outputs": [],
   "source": [
    "# Menghapus kolom ID karena tidak relevan\n",
    "data = data.drop('ID', axis=1)"
   ]
  },
  {
   "cell_type": "code",
   "execution_count": 8,
   "id": "a5ab0b33-9125-453b-8c5d-0ed4a6461c3b",
   "metadata": {},
   "outputs": [],
   "source": [
    "# Mengonversi variabel kategori menjadi numerik menggunakan LabelEncoder\n",
    "label_cols = ['Warehouse_block', 'Mode_of_Shipment', 'Product_importance', 'Gender']\n",
    "label_encoders = {col: LabelEncoder().fit(data[col]) for col in label_cols}\n",
    "for col in label_cols:\n",
    "    data[col] = label_encoders[col].transform(data[col])"
   ]
  },
  {
   "cell_type": "code",
   "execution_count": 9,
   "id": "2af99275-2ddf-48a8-bcc8-8280bc7f25a9",
   "metadata": {},
   "outputs": [],
   "source": [
    "# Membuat fitur baru\n",
    "data['Cost_per_Weight'] = data['Cost_of_the_Product'] / data['Weight_in_gms']\n",
    "data['Discount_Impact'] = data['Discount_offered'] / data['Cost_of_the_Product']"
   ]
  },
  {
   "cell_type": "markdown",
   "id": "236094e0-4c49-43df-b97f-4994993ae9e2",
   "metadata": {},
   "source": [
    "# 5. Mempersiapkan Fitur dan Target\n",
    "- Kolom Reached.on.Time_Y.N dipisahkan sebagai variabel target (y), dan kolom lainnya dipilih sebagai fitur (X).\n",
    "- Fitur numerik dinormalisasi menggunakan StandardScaler, yang membuat data memiliki rata-rata 0 dan standar deviasi 1.\n"
   ]
  },
  {
   "cell_type": "code",
   "execution_count": 10,
   "id": "fb7f100a-d7e4-4739-a307-e82512d5fe3a",
   "metadata": {},
   "outputs": [],
   "source": [
    "# Pisahkan fitur dan target\n",
    "X = data.drop('Reached.on.Time_Y.N', axis=1)\n",
    "y = data['Reached.on.Time_Y.N']"
   ]
  },
  {
   "cell_type": "code",
   "execution_count": 11,
   "id": "997392a2-eb4c-46ca-9936-141169390788",
   "metadata": {},
   "outputs": [],
   "source": [
    "# Normalisasi fitur numerik\n",
    "scaler = StandardScaler()\n",
    "X_scaled = scaler.fit_transform(X)"
   ]
  },
  {
   "cell_type": "markdown",
   "id": "26255991-1622-4f6e-b0a9-687a55e887ed",
   "metadata": {},
   "source": [
    "# 6. Menyeimbangkan Data dengan SMOTE-ENN\n",
    "- SMOTE-ENN digunakan untuk menangani masalah ketidakseimbangan kelas pada dataset. SMOTE menghasilkan data sintetis untuk kelas minoritas, sedangkan ENN menghapus contoh yang salah klasifikasi.\n",
    "- Hasilnya adalah dataset yang seimbang dengan variabel X_res dan y_res.\n"
   ]
  },
  {
   "cell_type": "code",
   "execution_count": 12,
   "id": "d82c7ad4-fed7-43cc-b823-f3938717f312",
   "metadata": {},
   "outputs": [],
   "source": [
    "# Menyeimbangkan data dengan SMOTE-ENN\n",
    "smote_enn = SMOTEENN(random_state=42)\n",
    "X_res, y_res = smote_enn.fit_resample(X_scaled, y)"
   ]
  },
  {
   "cell_type": "markdown",
   "id": "3b15d92d-30ca-4d63-b77e-769f59fe3279",
   "metadata": {},
   "source": [
    "# 7. Split Dataset ke Training dan Test Set\n",
    "- Dataset dibagi menjadi dua bagian: data training (80%) dan data testing (20%) menggunakan fungsi train_test_split.\n",
    "- Parameter stratify=y_res memastikan distribusi kelas target tetap seimbang pada kedua set."
   ]
  },
  {
   "cell_type": "code",
   "execution_count": 13,
   "id": "8509548c-cd77-407b-b957-64e8362620d5",
   "metadata": {},
   "outputs": [],
   "source": [
    "# Split dataset menjadi train dan test set\n",
    "X_train, X_test, y_train, y_test = train_test_split(X_res, y_res, test_size=0.2, random_state=42, stratify=y_res)"
   ]
  },
  {
   "cell_type": "markdown",
   "id": "d0dca158-0db9-4231-ae7b-c88c639f13b8",
   "metadata": {},
   "source": [
    "# 8. Modeling dengan XGBoost\n",
    "- Model XGBoost diinisialisasi dan digunakan untuk klasifikasi.\n",
    "- Grid Search digunakan untuk melakukan pencarian parameter terbaik untuk model XGBoost menggunakan beberapa kombinasi hyperparameter, dan hasil terbaik disimpan dalam best_xgb_model."
   ]
  },
  {
   "cell_type": "code",
   "execution_count": 14,
   "id": "0c35585f-9807-436a-9095-658bf2bf809a",
   "metadata": {},
   "outputs": [],
   "source": [
    "# Inisialisasi model XGBoost\n",
    "xgb_model = xgb.XGBClassifier(random_state=42)"
   ]
  },
  {
   "cell_type": "code",
   "execution_count": 15,
   "id": "57f35774-124d-49e8-b850-de691c2e1f2e",
   "metadata": {},
   "outputs": [],
   "source": [
    "# Hyperparameter tuning untuk XGBoost\n",
    "param_grid_xgb = {\n",
    "    'n_estimators': [100, 200, 300],\n",
    "    'learning_rate': [0.01, 0.05, 0.1],\n",
    "    'max_depth': [3, 5, 7],\n",
    "    'subsample': [0.7, 0.8, 0.9],\n",
    "    'colsample_bytree': [0.7, 0.8, 0.9]\n",
    "}"
   ]
  },
  {
   "cell_type": "code",
   "execution_count": 16,
   "id": "6e57df3d-4f71-445a-9577-85ba48a8c986",
   "metadata": {},
   "outputs": [
    {
     "name": "stdout",
     "output_type": "stream",
     "text": [
      "Fitting 5 folds for each of 243 candidates, totalling 1215 fits\n"
     ]
    },
    {
     "name": "stderr",
     "output_type": "stream",
     "text": [
      "C:\\Users\\LENOVO\\AppData\\Local\\Programs\\Python\\Python312\\Lib\\site-packages\\sklearn\\model_selection\\_validation.py:547: FitFailedWarning: \n",
      "2 fits failed out of a total of 1215.\n",
      "The score on these train-test partitions for these parameters will be set to nan.\n",
      "If these failures are not expected, you can try to debug them by setting error_score='raise'.\n",
      "\n",
      "Below are more details about the failures:\n",
      "--------------------------------------------------------------------------------\n",
      "2 fits failed with the following error:\n",
      "Traceback (most recent call last):\n",
      "  File \"C:\\Users\\LENOVO\\AppData\\Local\\Programs\\Python\\Python312\\Lib\\site-packages\\sklearn\\model_selection\\_validation.py\", line 895, in _fit_and_score\n",
      "    estimator.fit(X_train, y_train, **fit_params)\n",
      "  File \"C:\\Users\\LENOVO\\AppData\\Local\\Programs\\Python\\Python312\\Lib\\site-packages\\xgboost\\core.py\", line 726, in inner_f\n",
      "    return func(**kwargs)\n",
      "           ^^^^^^^^^^^^^^\n",
      "  File \"C:\\Users\\LENOVO\\AppData\\Local\\Programs\\Python\\Python312\\Lib\\site-packages\\xgboost\\sklearn.py\", line 1512, in fit\n",
      "    train_dmatrix, evals = _wrap_evaluation_matrices(\n",
      "                           ^^^^^^^^^^^^^^^^^^^^^^^^^^\n",
      "  File \"C:\\Users\\LENOVO\\AppData\\Local\\Programs\\Python\\Python312\\Lib\\site-packages\\xgboost\\sklearn.py\", line 596, in _wrap_evaluation_matrices\n",
      "    train_dmatrix = create_dmatrix(\n",
      "                    ^^^^^^^^^^^^^^^\n",
      "  File \"C:\\Users\\LENOVO\\AppData\\Local\\Programs\\Python\\Python312\\Lib\\site-packages\\xgboost\\sklearn.py\", line 1003, in _create_dmatrix\n",
      "    return QuantileDMatrix(\n",
      "           ^^^^^^^^^^^^^^^^\n",
      "  File \"C:\\Users\\LENOVO\\AppData\\Local\\Programs\\Python\\Python312\\Lib\\site-packages\\xgboost\\core.py\", line 726, in inner_f\n",
      "    return func(**kwargs)\n",
      "           ^^^^^^^^^^^^^^\n",
      "  File \"C:\\Users\\LENOVO\\AppData\\Local\\Programs\\Python\\Python312\\Lib\\site-packages\\xgboost\\core.py\", line 1573, in __init__\n",
      "    self._init(\n",
      "  File \"C:\\Users\\LENOVO\\AppData\\Local\\Programs\\Python\\Python312\\Lib\\site-packages\\xgboost\\core.py\", line 1632, in _init\n",
      "    it.reraise()\n",
      "  File \"C:\\Users\\LENOVO\\AppData\\Local\\Programs\\Python\\Python312\\Lib\\site-packages\\xgboost\\core.py\", line 569, in reraise\n",
      "    raise exc  # pylint: disable=raising-bad-type\n",
      "    ^^^^^^^^^\n",
      "  File \"C:\\Users\\LENOVO\\AppData\\Local\\Programs\\Python\\Python312\\Lib\\site-packages\\xgboost\\core.py\", line 550, in _handle_exception\n",
      "    return fn()\n",
      "           ^^^^\n",
      "  File \"C:\\Users\\LENOVO\\AppData\\Local\\Programs\\Python\\Python312\\Lib\\site-packages\\xgboost\\core.py\", line 637, in <lambda>\n",
      "    return self._handle_exception(lambda: self.next(input_data), 0)\n",
      "                                          ^^^^^^^^^^^^^^^^^^^^^\n",
      "  File \"C:\\Users\\LENOVO\\AppData\\Local\\Programs\\Python\\Python312\\Lib\\site-packages\\xgboost\\data.py\", line 1416, in next\n",
      "    input_data(**self.kwargs)\n",
      "  File \"C:\\Users\\LENOVO\\AppData\\Local\\Programs\\Python\\Python312\\Lib\\site-packages\\xgboost\\core.py\", line 726, in inner_f\n",
      "    return func(**kwargs)\n",
      "           ^^^^^^^^^^^^^^\n",
      "  File \"C:\\Users\\LENOVO\\AppData\\Local\\Programs\\Python\\Python312\\Lib\\site-packages\\xgboost\\core.py\", line 626, in input_data\n",
      "    self.proxy.set_info(\n",
      "  File \"C:\\Users\\LENOVO\\AppData\\Local\\Programs\\Python\\Python312\\Lib\\site-packages\\xgboost\\core.py\", line 726, in inner_f\n",
      "    return func(**kwargs)\n",
      "           ^^^^^^^^^^^^^^\n",
      "  File \"C:\\Users\\LENOVO\\AppData\\Local\\Programs\\Python\\Python312\\Lib\\site-packages\\xgboost\\core.py\", line 954, in set_info\n",
      "    self.set_label(label)\n",
      "  File \"C:\\Users\\LENOVO\\AppData\\Local\\Programs\\Python\\Python312\\Lib\\site-packages\\xgboost\\core.py\", line 1092, in set_label\n",
      "    dispatch_meta_backend(self, label, \"label\", \"float\")\n",
      "  File \"C:\\Users\\LENOVO\\AppData\\Local\\Programs\\Python\\Python312\\Lib\\site-packages\\xgboost\\data.py\", line 1362, in dispatch_meta_backend\n",
      "    _meta_from_pandas_series(data, name, dtype, handle)\n",
      "  File \"C:\\Users\\LENOVO\\AppData\\Local\\Programs\\Python\\Python312\\Lib\\site-packages\\xgboost\\data.py\", line 679, in _meta_from_pandas_series\n",
      "    _meta_from_numpy(data, name, dtype, handle)\n",
      "  File \"C:\\Users\\LENOVO\\AppData\\Local\\Programs\\Python\\Python312\\Lib\\site-packages\\xgboost\\data.py\", line 1295, in _meta_from_numpy\n",
      "    _check_call(_LIB.XGDMatrixSetInfoFromInterface(handle, c_str(field), interface_str))\n",
      "  File \"C:\\Users\\LENOVO\\AppData\\Local\\Programs\\Python\\Python312\\Lib\\site-packages\\xgboost\\core.py\", line 284, in _check_call\n",
      "    raise XGBoostError(py_str(_LIB.XGBGetLastError()))\n",
      "xgboost.core.XGBoostError: [20:21:38] C:\\buildkite-agent\\builds\\buildkite-windows-cpu-autoscaling-group-i-06abd128ca6c1688d-1\\xgboost\\xgboost-ci-windows\\src\\data\\array_interface.cu:44: Check failed: err == cudaGetLastError() (0 vs. 46) : \n",
      "\n",
      "  warnings.warn(some_fits_failed_message, FitFailedWarning)\n",
      "C:\\Users\\LENOVO\\AppData\\Local\\Programs\\Python\\Python312\\Lib\\site-packages\\sklearn\\model_selection\\_search.py:1051: UserWarning: One or more of the test scores are non-finite: [       nan 0.96267651 0.96180115 0.96315848 0.96315102 0.96276511\n",
      " 0.96428959 0.96405465 0.96347871 0.96634805 0.96619587 0.96588605\n",
      " 0.96792122 0.96791956 0.96767171 0.96912052 0.96893922 0.96865561\n",
      " 0.96957296 0.96961208 0.96934968 0.97139773 0.97156991 0.9715641\n",
      " 0.97200821 0.97250058 0.97259042 0.96578247 0.9658091  0.96566441\n",
      " 0.97001792 0.97023586 0.97016681 0.97124054 0.97160569 0.97199239\n",
      " 0.9690948  0.96980174 0.97080054 0.97258131 0.97269857 0.97387956\n",
      " 0.97384467 0.97404178 0.974688   0.97235422 0.97321171 0.97342629\n",
      " 0.97443351 0.97540078 0.97540491 0.97546567 0.97564866 0.97602623\n",
      " 0.96882118 0.96915718 0.97033482 0.97065008 0.97214379 0.97273263\n",
      " 0.97165897 0.97279752 0.97376561 0.97257301 0.97207816 0.97269356\n",
      " 0.97521704 0.97487183 0.97446847 0.97544743 0.97516212 0.97503073\n",
      " 0.97498743 0.97416983 0.97379057 0.97604374 0.9761119  0.97544072\n",
      " 0.97639721 0.97631901 0.97558462 0.96299258 0.96296307 0.96173381\n",
      " 0.96320673 0.96332526 0.96270193 0.96419395 0.9639852  0.96324502\n",
      " 0.96624533 0.96603161 0.96601455 0.9677586  0.96760354 0.96738685\n",
      " 0.96914546 0.96874211 0.96846765 0.96919288 0.96984288 0.96915881\n",
      " 0.97134949 0.97158072 0.97135618 0.97230678 0.97230929 0.97242823\n",
      " 0.96582573 0.96566357 0.96582576 0.96993059 0.96974682 0.96997388\n",
      " 0.97149586 0.97155581 0.97192588 0.96983167 0.96979259 0.97071741\n",
      " 0.97362758 0.97323752 0.97417731 0.97477035 0.97431958 0.97498075\n",
      " 0.97298631 0.97288737 0.97212633 0.97506479 0.97539913 0.97468636\n",
      " 0.97597219 0.97574762 0.97557964 0.96890685 0.96958717 0.96967198\n",
      " 0.9711583  0.97196334 0.97264119 0.97218129 0.97297472 0.97335563\n",
      " 0.97242659 0.97191927 0.97273346 0.97513465 0.97398775 0.97548643\n",
      " 0.97549229 0.97452006 0.97553719 0.97405182 0.97445258 0.97412081\n",
      " 0.97579507 0.97541574 0.97573601 0.97620925 0.97582412 0.97615769\n",
      " 0.962956   0.96263039 0.96114744 0.96332983 0.96327868 0.96220454\n",
      " 0.96430374 0.96399768 0.96337642 0.96535083 0.96534754 0.96511963\n",
      " 0.96706622 0.9668604  0.96681505 0.96885479 0.96865978 0.96826721\n",
      " 0.96888515 0.96882529 0.96818407 0.97080472 0.97060928 0.97063093\n",
      " 0.97176534 0.97191339 0.97187015 0.96537243 0.96530176 0.96535377\n",
      " 0.96920704 0.96963121 0.96983414 0.97140439 0.97177285 0.97187763\n",
      " 0.96981088 0.96988571 0.96970858 0.97259874 0.97333149 0.97304455\n",
      " 0.97369911 0.97476869 0.97437779 0.9730487  0.97360176 0.9734246\n",
      " 0.97501077 0.97608944 0.9754199  0.97589487 0.97626993 0.97598547\n",
      " 0.96945324 0.96818909 0.96979503 0.9715159  0.97124725 0.97221948\n",
      " 0.97249401 0.97236339 0.97359262 0.9726354  0.9728375  0.97300212\n",
      " 0.97448016 0.97451424 0.97444267 0.9752977  0.97552475 0.97529768\n",
      " 0.9753035  0.97407838 0.97401682 0.97589072 0.975548   0.97495002\n",
      " 0.97629327 0.97589564 0.97550645]\n",
      "  warnings.warn(\n"
     ]
    },
    {
     "name": "stdout",
     "output_type": "stream",
     "text": [
      "Hyperparameters terbaik untuk XGBoost: {'colsample_bytree': 0.7, 'learning_rate': 0.1, 'max_depth': 7, 'n_estimators': 300, 'subsample': 0.7}\n"
     ]
    }
   ],
   "source": [
    "grid_search_xgb = GridSearchCV(estimator=xgb_model, param_grid=param_grid_xgb, scoring='roc_auc', cv=5, n_jobs=-1, verbose=2)\n",
    "grid_search_xgb.fit(X_train, y_train)\n",
    "best_xgb_model = grid_search_xgb.best_estimator_\n",
    "print(\"Hyperparameters terbaik untuk XGBoost:\", grid_search_xgb.best_params_)"
   ]
  },
  {
   "cell_type": "markdown",
   "id": "fa87c40e-dd32-4b8c-b813-7a715129826a",
   "metadata": {},
   "source": [
    "# 9. Evaluasi Model XGBoost\n",
    "- Prediksi dilakukan menggunakan model XGBoost dan hasilnya dievaluasi menggunakan matriks kebingungannya (confusion matrix), laporan klasifikasi, akurasi, dan skor ROC AUC.\n"
   ]
  },
  {
   "cell_type": "code",
   "execution_count": 17,
   "id": "4a15b304-a53c-4007-8a5a-b822f7013020",
   "metadata": {},
   "outputs": [],
   "source": [
    "# Evaluasi XGBoost\n",
    "y_pred_xgb = best_xgb_model.predict(X_test)\n",
    "y_pred_prob_xgb = best_xgb_model.predict_proba(X_test)[:, 1]"
   ]
  },
  {
   "cell_type": "code",
   "execution_count": 18,
   "id": "c08d2ec3-db16-4be8-b054-bd2a3f56cf67",
   "metadata": {},
   "outputs": [
    {
     "name": "stdout",
     "output_type": "stream",
     "text": [
      "\n",
      "Confusion Matrix - XGBoost:\n",
      "[[617  10]\n",
      " [ 41 559]]\n",
      "\n",
      "Classification Report - XGBoost:\n",
      "              precision    recall  f1-score   support\n",
      "\n",
      "           0       0.94      0.98      0.96       627\n",
      "           1       0.98      0.93      0.96       600\n",
      "\n",
      "    accuracy                           0.96      1227\n",
      "   macro avg       0.96      0.96      0.96      1227\n",
      "weighted avg       0.96      0.96      0.96      1227\n",
      "\n",
      "\n",
      "Accuracy Score - XGBoost: 0.9584352078239609\n",
      "ROC AUC Score - XGBoost: 0.9766188197767145\n"
     ]
    }
   ],
   "source": [
    "print(\"\\nConfusion Matrix - XGBoost:\")\n",
    "print(confusion_matrix(y_test, y_pred_xgb))\n",
    "print(\"\\nClassification Report - XGBoost:\")\n",
    "print(classification_report(y_test, y_pred_xgb))\n",
    "print(\"\\nAccuracy Score - XGBoost:\", accuracy_score(y_test, y_pred_xgb))\n",
    "print(\"ROC AUC Score - XGBoost:\", roc_auc_score(y_test, y_pred_prob_xgb))"
   ]
  },
  {
   "cell_type": "markdown",
   "id": "88220a48-6b88-44e7-895f-77a210d67ff1",
   "metadata": {},
   "source": [
    "# 10. Modeling dengan LightGBM\n",
    "- Sama seperti XGBoost, model LightGBM diinisialisasi dan dilakukan pencarian parameter terbaik menggunakan Grid Search."
   ]
  },
  {
   "cell_type": "code",
   "execution_count": 19,
   "id": "5a2f1d12-6854-4dbe-81d5-18029ce9876c",
   "metadata": {},
   "outputs": [],
   "source": [
    "# Inisialisasi model LightGBM\n",
    "lgb_model = lgb.LGBMClassifier(random_state=42)"
   ]
  },
  {
   "cell_type": "code",
   "execution_count": 20,
   "id": "8987b305-3161-4d47-8647-44f5609dd40f",
   "metadata": {},
   "outputs": [],
   "source": [
    "# Hyperparameter tuning untuk LightGBM\n",
    "param_grid_lgb = {\n",
    "    'n_estimators': [100, 200, 300],\n",
    "    'learning_rate': [0.01, 0.05, 0.1],\n",
    "    'max_depth': [3, 5, 7],\n",
    "    'num_leaves': [20, 31, 40],\n",
    "    'subsample': [0.7, 0.8, 0.9],\n",
    "    'colsample_bytree': [0.7, 0.8, 0.9]\n",
    "}"
   ]
  },
  {
   "cell_type": "code",
   "execution_count": 21,
   "id": "e472ec88-faf0-401b-becb-5854ddc9901b",
   "metadata": {},
   "outputs": [
    {
     "name": "stdout",
     "output_type": "stream",
     "text": [
      "Fitting 5 folds for each of 729 candidates, totalling 3645 fits\n",
      "[LightGBM] [Info] Number of positive: 2398, number of negative: 2507\n",
      "[LightGBM] [Info] Auto-choosing col-wise multi-threading, the overhead of testing was 0.000280 seconds.\n",
      "You can set `force_col_wise=true` to remove the overhead.\n",
      "[LightGBM] [Info] Total Bins 2126\n",
      "[LightGBM] [Info] Number of data points in the train set: 4905, number of used features: 12\n",
      "[LightGBM] [Info] [binary:BoostFromScore]: pavg=0.488889 -> initscore=-0.044452\n",
      "[LightGBM] [Info] Start training from score -0.044452\n",
      "[LightGBM] [Warning] No further splits with positive gain, best gain: -inf\n",
      "[LightGBM] [Warning] No further splits with positive gain, best gain: -inf\n",
      "[LightGBM] [Warning] No further splits with positive gain, best gain: -inf\n",
      "[LightGBM] [Warning] No further splits with positive gain, best gain: -inf\n",
      "[LightGBM] [Warning] No further splits with positive gain, best gain: -inf\n",
      "[LightGBM] [Warning] No further splits with positive gain, best gain: -inf\n",
      "[LightGBM] [Warning] No further splits with positive gain, best gain: -inf\n",
      "[LightGBM] [Warning] No further splits with positive gain, best gain: -inf\n",
      "[LightGBM] [Warning] No further splits with positive gain, best gain: -inf\n",
      "[LightGBM] [Warning] No further splits with positive gain, best gain: -inf\n",
      "[LightGBM] [Warning] No further splits with positive gain, best gain: -inf\n",
      "[LightGBM] [Warning] No further splits with positive gain, best gain: -inf\n",
      "[LightGBM] [Warning] No further splits with positive gain, best gain: -inf\n",
      "[LightGBM] [Warning] No further splits with positive gain, best gain: -inf\n",
      "[LightGBM] [Warning] No further splits with positive gain, best gain: -inf\n",
      "[LightGBM] [Warning] No further splits with positive gain, best gain: -inf\n",
      "[LightGBM] [Warning] No further splits with positive gain, best gain: -inf\n",
      "[LightGBM] [Warning] No further splits with positive gain, best gain: -inf\n",
      "[LightGBM] [Warning] No further splits with positive gain, best gain: -inf\n",
      "[LightGBM] [Warning] No further splits with positive gain, best gain: -inf\n",
      "[LightGBM] [Warning] No further splits with positive gain, best gain: -inf\n",
      "[LightGBM] [Warning] No further splits with positive gain, best gain: -inf\n",
      "[LightGBM] [Warning] No further splits with positive gain, best gain: -inf\n",
      "[LightGBM] [Warning] No further splits with positive gain, best gain: -inf\n",
      "[LightGBM] [Warning] No further splits with positive gain, best gain: -inf\n",
      "[LightGBM] [Warning] No further splits with positive gain, best gain: -inf\n",
      "[LightGBM] [Warning] No further splits with positive gain, best gain: -inf\n",
      "[LightGBM] [Warning] No further splits with positive gain, best gain: -inf\n",
      "[LightGBM] [Warning] No further splits with positive gain, best gain: -inf\n",
      "[LightGBM] [Warning] No further splits with positive gain, best gain: -inf\n",
      "[LightGBM] [Warning] No further splits with positive gain, best gain: -inf\n",
      "[LightGBM] [Warning] No further splits with positive gain, best gain: -inf\n",
      "[LightGBM] [Warning] No further splits with positive gain, best gain: -inf\n",
      "[LightGBM] [Warning] No further splits with positive gain, best gain: -inf\n",
      "[LightGBM] [Warning] No further splits with positive gain, best gain: -inf\n",
      "[LightGBM] [Warning] No further splits with positive gain, best gain: -inf\n",
      "[LightGBM] [Warning] No further splits with positive gain, best gain: -inf\n",
      "[LightGBM] [Warning] No further splits with positive gain, best gain: -inf\n",
      "[LightGBM] [Warning] No further splits with positive gain, best gain: -inf\n",
      "[LightGBM] [Warning] No further splits with positive gain, best gain: -inf\n",
      "[LightGBM] [Warning] No further splits with positive gain, best gain: -inf\n",
      "[LightGBM] [Warning] No further splits with positive gain, best gain: -inf\n",
      "[LightGBM] [Warning] No further splits with positive gain, best gain: -inf\n",
      "[LightGBM] [Warning] No further splits with positive gain, best gain: -inf\n",
      "[LightGBM] [Warning] No further splits with positive gain, best gain: -inf\n",
      "[LightGBM] [Warning] No further splits with positive gain, best gain: -inf\n",
      "[LightGBM] [Warning] No further splits with positive gain, best gain: -inf\n",
      "[LightGBM] [Warning] No further splits with positive gain, best gain: -inf\n",
      "[LightGBM] [Warning] No further splits with positive gain, best gain: -inf\n",
      "[LightGBM] [Warning] No further splits with positive gain, best gain: -inf\n",
      "[LightGBM] [Warning] No further splits with positive gain, best gain: -inf\n",
      "[LightGBM] [Warning] No further splits with positive gain, best gain: -inf\n",
      "[LightGBM] [Warning] No further splits with positive gain, best gain: -inf\n",
      "[LightGBM] [Warning] No further splits with positive gain, best gain: -inf\n",
      "[LightGBM] [Warning] No further splits with positive gain, best gain: -inf\n",
      "[LightGBM] [Warning] No further splits with positive gain, best gain: -inf\n",
      "[LightGBM] [Warning] No further splits with positive gain, best gain: -inf\n",
      "[LightGBM] [Warning] No further splits with positive gain, best gain: -inf\n",
      "[LightGBM] [Warning] No further splits with positive gain, best gain: -inf\n",
      "[LightGBM] [Warning] No further splits with positive gain, best gain: -inf\n",
      "[LightGBM] [Warning] No further splits with positive gain, best gain: -inf\n",
      "[LightGBM] [Warning] No further splits with positive gain, best gain: -inf\n",
      "[LightGBM] [Warning] No further splits with positive gain, best gain: -inf\n",
      "[LightGBM] [Warning] No further splits with positive gain, best gain: -inf\n",
      "[LightGBM] [Warning] No further splits with positive gain, best gain: -inf\n",
      "[LightGBM] [Warning] No further splits with positive gain, best gain: -inf\n",
      "[LightGBM] [Warning] No further splits with positive gain, best gain: -inf\n",
      "[LightGBM] [Warning] No further splits with positive gain, best gain: -inf\n",
      "[LightGBM] [Warning] No further splits with positive gain, best gain: -inf\n",
      "[LightGBM] [Warning] No further splits with positive gain, best gain: -inf\n",
      "[LightGBM] [Warning] No further splits with positive gain, best gain: -inf\n",
      "[LightGBM] [Warning] No further splits with positive gain, best gain: -inf\n",
      "[LightGBM] [Warning] No further splits with positive gain, best gain: -inf\n",
      "[LightGBM] [Warning] No further splits with positive gain, best gain: -inf\n",
      "[LightGBM] [Warning] No further splits with positive gain, best gain: -inf\n",
      "[LightGBM] [Warning] No further splits with positive gain, best gain: -inf\n",
      "[LightGBM] [Warning] No further splits with positive gain, best gain: -inf\n",
      "[LightGBM] [Warning] No further splits with positive gain, best gain: -inf\n",
      "[LightGBM] [Warning] No further splits with positive gain, best gain: -inf\n",
      "[LightGBM] [Warning] No further splits with positive gain, best gain: -inf\n",
      "[LightGBM] [Warning] No further splits with positive gain, best gain: -inf\n",
      "[LightGBM] [Warning] No further splits with positive gain, best gain: -inf\n",
      "[LightGBM] [Warning] No further splits with positive gain, best gain: -inf\n",
      "[LightGBM] [Warning] No further splits with positive gain, best gain: -inf\n",
      "[LightGBM] [Warning] No further splits with positive gain, best gain: -inf\n",
      "Hyperparameters terbaik untuk LightGBM: {'colsample_bytree': 0.7, 'learning_rate': 0.05, 'max_depth': 7, 'n_estimators': 300, 'num_leaves': 31, 'subsample': 0.7}\n"
     ]
    }
   ],
   "source": [
    "grid_search_lgb = GridSearchCV(estimator=lgb_model, param_grid=param_grid_lgb, scoring='roc_auc', cv=5, n_jobs=-1, verbose=2)\n",
    "grid_search_lgb.fit(X_train, y_train)\n",
    "best_lgb_model = grid_search_lgb.best_estimator_\n",
    "print(\"Hyperparameters terbaik untuk LightGBM:\", grid_search_lgb.best_params_)"
   ]
  },
  {
   "cell_type": "markdown",
   "id": "4b027c0a-b708-4b75-81f9-d4465ca290d5",
   "metadata": {},
   "source": [
    "# 11. Evaluasi Model LightGBM\n",
    "- Evaluasi dilakukan untuk model LightGBM menggunakan metrik yang sama seperti untuk XGBoost.\n"
   ]
  },
  {
   "cell_type": "code",
   "execution_count": 22,
   "id": "a8fb1b1f-1f3a-44e3-94df-0e7b661197d5",
   "metadata": {},
   "outputs": [
    {
     "name": "stdout",
     "output_type": "stream",
     "text": [
      "\n",
      "Confusion Matrix - LightGBM:\n",
      "[[619   8]\n",
      " [ 42 558]]\n",
      "\n",
      "Classification Report - LightGBM:\n",
      "              precision    recall  f1-score   support\n",
      "\n",
      "           0       0.94      0.99      0.96       627\n",
      "           1       0.99      0.93      0.96       600\n",
      "\n",
      "    accuracy                           0.96      1227\n",
      "   macro avg       0.96      0.96      0.96      1227\n",
      "weighted avg       0.96      0.96      0.96      1227\n",
      "\n",
      "\n",
      "Accuracy Score - LightGBM: 0.9592502037489813\n",
      "ROC AUC Score - LightGBM: 0.9774029771398193\n"
     ]
    }
   ],
   "source": [
    "# Evaluasi LightGBM\n",
    "y_pred_lgb = best_lgb_model.predict(X_test)\n",
    "y_pred_prob_lgb = best_lgb_model.predict_proba(X_test)[:, 1]\n",
    "\n",
    "print(\"\\nConfusion Matrix - LightGBM:\")\n",
    "print(confusion_matrix(y_test, y_pred_lgb))\n",
    "print(\"\\nClassification Report - LightGBM:\")\n",
    "print(classification_report(y_test, y_pred_lgb))\n",
    "print(\"\\nAccuracy Score - LightGBM:\", accuracy_score(y_test, y_pred_lgb))\n",
    "print(\"ROC AUC Score - LightGBM:\", roc_auc_score(y_test, y_pred_prob_lgb))"
   ]
  },
  {
   "cell_type": "markdown",
   "id": "bdfcd44d-4509-44e7-af90-751a7d72447d",
   "metadata": {},
   "source": [
    "# 12. Threshold Tuning (XGBoost)\n",
    "- Threshold tuning digunakan untuk menyesuaikan ambang batas antara dua kelas, dan dengan memilih threshold yang lebih rendah, model akan lebih sensitif terhadap kelas minoritas (misalnya, keterlambatan pengiriman).\n",
    "- Penggunaan threshold yang lebih rendah seperti 0.3 dapat membantu menangkap lebih banyak contoh keterlambatan, namun dapat menyebabkan peningkatan jumlah false positive.\n",
    "- Evaluasi dengan confusion matrix dan classification report membantu kita untuk menilai apakah perubahan threshold ini meningkatkan performa model, terutama dalam mengidentifikasi keterlambatan."
   ]
  },
  {
   "cell_type": "code",
   "execution_count": 23,
   "id": "df4ae5cb-20bd-454c-94ec-fc386a2a82b4",
   "metadata": {},
   "outputs": [
    {
     "name": "stdout",
     "output_type": "stream",
     "text": [
      "\n",
      "Confusion Matrix - XGBoost (Adjusted Threshold):\n",
      "[[608  19]\n",
      " [ 39 561]]\n",
      "\n",
      "Classification Report - XGBoost (Adjusted Threshold):\n",
      "              precision    recall  f1-score   support\n",
      "\n",
      "           0       0.94      0.97      0.95       627\n",
      "           1       0.97      0.94      0.95       600\n",
      "\n",
      "    accuracy                           0.95      1227\n",
      "   macro avg       0.95      0.95      0.95      1227\n",
      "weighted avg       0.95      0.95      0.95      1227\n",
      "\n"
     ]
    }
   ],
   "source": [
    "# Threshold tuning (XGBoost)\n",
    "optimal_threshold = 0.3\n",
    "y_pred_adjusted_xgb = (y_pred_prob_xgb >= optimal_threshold).astype(int)\n",
    "print(\"\\nConfusion Matrix - XGBoost (Adjusted Threshold):\")\n",
    "print(confusion_matrix(y_test, y_pred_adjusted_xgb))\n",
    "print(\"\\nClassification Report - XGBoost (Adjusted Threshold):\")\n",
    "print(classification_report(y_test, y_pred_adjusted_xgb))"
   ]
  },
  {
   "cell_type": "markdown",
   "id": "65577e3b-7130-4067-a684-99af3dd769a3",
   "metadata": {},
   "source": [
    "# ROC Curve (XGBoost)"
   ]
  },
  {
   "cell_type": "code",
   "execution_count": 24,
   "id": "5a478e26-8486-4cec-88b4-0d87230344a5",
   "metadata": {},
   "outputs": [
    {
     "data": {
      "image/png": "[encoded data removed]",
      "text/plain": [
       "<Figure size 1000x600 with 1 Axes>"
      ]
     },
     "metadata": {},
     "output_type": "display_data"
    }
   ],
   "source": [
    "# ROC Curve (XGBoost)\n",
    "fpr, tpr, _ = roc_curve(y_test, y_pred_prob_xgb)\n",
    "plt.figure(figsize=(10, 6))\n",
    "plt.plot(fpr, tpr, label=f'ROC Curve XGBoost (AUC = {roc_auc_score(y_test, y_pred_prob_xgb):.2f})')\n",
    "plt.plot([0, 1], [0, 1], 'k--', label='Random Guess')\n",
    "plt.xlabel('False Positive Rate')\n",
    "plt.ylabel('True Positive Rate')\n",
    "plt.title('ROC Curve - XGBoost')\n",
    "plt.legend()\n",
    "plt.grid()\n",
    "plt.show()"
   ]
  },
  {
   "cell_type": "markdown",
   "id": "7bd5a875-437a-4f2b-b5e0-52a30f6ac2c4",
   "metadata": {},
   "source": [
    "# Feature Importance (XGBoost)"
   ]
  },
  {
   "cell_type": "code",
   "execution_count": 25,
   "id": "bdcdb8a0-1458-47eb-96fc-eaa19ee417ec",
   "metadata": {},
   "outputs": [
    {
     "data": {
      "image/png": "[encoded data removed]",
      "text/plain": [
       "<Figure size 1000x600 with 1 Axes>"
      ]
     },
     "metadata": {},
     "output_type": "display_data"
    }
   ],
   "source": [
    "# Feature Importance (XGBoost)\n",
    "feature_importance = pd.Series(best_xgb_model.feature_importances_, index=X.columns).sort_values(ascending=False)\n",
    "plt.figure(figsize=(10, 6))\n",
    "sns.barplot(x=feature_importance, y=feature_importance.index)\n",
    "plt.xlabel('Feature Importance')\n",
    "plt.ylabel('Features')\n",
    "plt.title('Feature Importance untuk Model XGBoost')\n",
    "plt.show()"
   ]
  },
  {
   "cell_type": "markdown",
   "id": "5fad1590-d11d-4479-82d6-015467a0482d",
   "metadata": {},
   "source": [
    "# 13.  Menyimpan dan Memuat Model\n",
    "- Model yang telah dilatih disimpan dalam file .pkl menggunakan pickle. File ini nantinya bisa dimuat kembali untuk melakukan prediksi pada data baru."
   ]
  },
  {
   "cell_type": "code",
   "execution_count": 26,
   "id": "55f6b2e1-4968-472e-b06b-0b6bd2e3b5fd",
   "metadata": {},
   "outputs": [
    {
     "name": "stdout",
     "output_type": "stream",
     "text": [
      "Model berhasil disimpan!\n"
     ]
    }
   ],
   "source": [
    "# Menyimpan model LightGBM\n",
    "with open('lightgbm_model.pkl', 'wb') as f:\n",
    "    pickle.dump(best_lgb_model, f)\n",
    "\n",
    "# Menyimpan model XGBoost\n",
    "with open('xgboost_model.pkl', 'wb') as f:\n",
    "    pickle.dump(best_xgb_model, f)\n",
    "\n",
    "print(\"Model berhasil disimpan!\")\n"
   ]
  },
  {
   "cell_type": "code",
   "execution_count": 27,
   "id": "206eb26a-d619-446b-8dff-e736cac7505a",
   "metadata": {},
   "outputs": [
    {
     "name": "stdout",
     "output_type": "stream",
     "text": [
      "Model LightGBM dan XGBoost berhasil dimuat!\n"
     ]
    }
   ],
   "source": [
    "# Memuat model LightGBM\n",
    "with open('lightgbm_model.pkl', 'rb') as f:\n",
    "    loaded_lgb_model = pickle.load(f)\n",
    "\n",
    "# Memuat model XGBoost\n",
    "with open('xgboost_model.pkl', 'rb') as f:\n",
    "    loaded_xgb_model = pickle.load(f)\n",
    "\n",
    "print(\"Model LightGBM dan XGBoost berhasil dimuat!\")"
   ]
  },
  {
   "cell_type": "markdown",
   "id": "12a207e2-59a2-4f5d-b2a4-b9dcdabc86c4",
   "metadata": {},
   "source": [
    "# 14. Prediksi Menggunakan Model"
   ]
  },
  {
   "cell_type": "code",
   "execution_count": 28,
   "id": "625f99b4-a10b-4d06-959a-58248e1dbb5e",
   "metadata": {},
   "outputs": [
    {
     "name": "stdout",
     "output_type": "stream",
     "text": [
      "Prediksi LightGBM: Tepat Waktu\n",
      "Prediksi XGBoost: Tepat Waktu\n"
     ]
    }
   ],
   "source": [
    "# Memuat model LightGBM\n",
    "with open('lightgbm_model.pkl', 'rb') as f:\n",
    "    loaded_lgb_model = pickle.load(f)\n",
    "\n",
    "# Memuat model XGBoost\n",
    "with open('xgboost_model.pkl', 'rb') as f:\n",
    "    loaded_xgb_model = pickle.load(f)\n",
    "\n",
    "# Contoh data baru untuk prediksi\n",
    "new_data = pd.DataFrame({\n",
    "    'Warehouse_block': [0], \n",
    "    'Mode_of_Shipment': [1],\n",
    "    'Customer_care_calls': [4],\n",
    "    'Customer_rating': [3],\n",
    "    'Cost_of_the_Product': [200],\n",
    "    'Prior_purchases': [2],\n",
    "    'Product_importance': [0],\n",
    "    'Gender': [1],\n",
    "    'Discount_offered': [20],\n",
    "    'Weight_in_gms': [1500],\n",
    "    'Cost_per_Weight': [200 / 1500],\n",
    "    'Discount_Impact': [20 / 200]\n",
    "})\n",
    "\n",
    "# Normalisasi data (sama seperti proses sebelumnya)\n",
    "new_data_scaled = scaler.transform(new_data)\n",
    "\n",
    "# Prediksi menggunakan LightGBM\n",
    "prediction_lgb = loaded_lgb_model.predict(new_data_scaled)\n",
    "print(f\"Prediksi LightGBM: {'Tepat Waktu' if prediction_lgb[0] == 1 else 'Terlambat'}\")\n",
    "\n",
    "# Prediksi menggunakan XGBoost\n",
    "prediction_xgb = loaded_xgb_model.predict(new_data_scaled)\n",
    "print(f\"Prediksi XGBoost: {'Tepat Waktu' if prediction_xgb[0] == 1 else 'Terlambat'}\")\n"
   ]
  },
  {
   "cell_type": "markdown",
   "id": "ca9adb90-9718-467f-a5b2-bdcdf7723a2b",
   "metadata": {},
   "source": [
    "# Menyimpan File Scaler\n",
    "- Di sini, Saya menyimpan objek scaler (misalnya, StandardScaler atau MinMaxScaler) ke dalam file dengan format pickle menggunakan pickle.dump.\n",
    "- wb artinya file dibuka dalam mode write binary.\n",
    "- Penyimpanan scaler ini memungkinkan Anda untuk menggunakan model normalisasi yang sama di masa depan tanpa perlu melatih ulang scaler."
   ]
  },
  {
   "cell_type": "code",
   "execution_count": 29,
   "id": "fb6418a7-cb0c-4c71-ba7b-514f2d155903",
   "metadata": {},
   "outputs": [
    {
     "name": "stdout",
     "output_type": "stream",
     "text": [
      "Scaler berhasil disimpan!\n"
     ]
    }
   ],
   "source": [
    "# Simpan scaler ke file .pkl\n",
    "with open('scaler.pkl', 'wb') as f:\n",
    "    pickle.dump(scaler, f)\n",
    "\n",
    "print(\"Scaler berhasil disimpan!\")\n"
   ]
  },
  {
   "cell_type": "markdown",
   "id": "b4687ede-64c7-40d7-9d4f-6a19c6ad2ffa",
   "metadata": {},
   "source": [
    "# Memuat Scaler dari File .pkl\n",
    "- Pada bagian ini, Saya memuat kembali scaler yang telah disimpan sebelumnya menggunakan pickle.load.\n",
    "- rb artinya file dibuka dalam mode read binary untuk membaca file yang telah disimpan."
   ]
  },
  {
   "cell_type": "code",
   "execution_count": 30,
   "id": "2d4d8730-6cca-4ae3-b872-03b76e660ca4",
   "metadata": {},
   "outputs": [
    {
     "name": "stdout",
     "output_type": "stream",
     "text": [
      "Data baru setelah normalisasi:\n",
      "[[-1.56534517 -0.68290796 -0.04771132  0.00668917 -0.21216408 -1.02942377\n",
      "  -2.13180168  1.00830799  0.40893983 -1.30496724  0.96770017  0.32112874]]\n"
     ]
    }
   ],
   "source": [
    "# Memuat scaler\n",
    "with open('scaler.pkl', 'rb') as f:\n",
    "    scaler = pickle.load(f)\n",
    "\n",
    "# Contoh data baru\n",
    "new_data = pd.DataFrame({\n",
    "    'Warehouse_block': [0],  # Ganti nilai sesuai dengan encoding yang Anda gunakan\n",
    "    'Mode_of_Shipment': [1],\n",
    "    'Customer_care_calls': [4],\n",
    "    'Customer_rating': [3],\n",
    "    'Cost_of_the_Product': [200],\n",
    "    'Prior_purchases': [2],\n",
    "    'Product_importance': [0],\n",
    "    'Gender': [1],\n",
    "    'Discount_offered': [20],\n",
    "    'Weight_in_gms': [1500],\n",
    "    'Cost_per_Weight': [200 / 1500],\n",
    "    'Discount_Impact': [20 / 200]\n",
    "})\n",
    "\n",
    "# Normalisasi data\n",
    "new_data_scaled = scaler.transform(new_data)\n",
    "print(\"Data baru setelah normalisasi:\")\n",
    "print(new_data_scaled)\n"
   ]
  },
  {
   "cell_type": "code",
   "execution_count": null,
   "id": "5f9ef6f6-346e-4097-a4de-629dd73c0b2c",
   "metadata": {},
   "outputs": [],
   "source": []
  },
  {
   "cell_type": "code",
   "execution_count": null,
   "id": "e811b332-2a35-430e-82dd-e60dd705b8a9",
   "metadata": {},
   "outputs": [],
   "source": []
  }
 ],
 "metadata": {
  "kernelspec": {
   "display_name": "Python 3 (ipykernel)",
   "language": "python",
   "name": "python3"
  },
  "language_info": {
   "codemirror_mode": {
    "name": "ipython",
    "version": 3
   },
   "file_extension": ".py",
   "mimetype": "text/x-python",
   "name": "python",
   "nbconvert_exporter": "python",
   "pygments_lexer": "ipython3",
   "version": "3.12.2"
  }
 },
 "nbformat": 4,
 "nbformat_minor": 5
}
